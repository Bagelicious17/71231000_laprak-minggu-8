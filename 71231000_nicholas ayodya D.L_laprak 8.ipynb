{
 "cells": [
  {
   "cell_type": "code",
   "execution_count": 11,
   "id": "10810c70",
   "metadata": {},
   "outputs": [
    {
     "name": "stdout",
     "output_type": "stream",
     "text": [
      "Masukkan nama file pertama : file1.txt\n",
      "Masukkan nama file kedua : file2.txt\n",
      "Perbedaan di baris 3:\n",
      "File 1: makan nasi\n",
      "File 2: makan\n",
      "Perbedaan di baris 4:\n",
      "File 1: sambil\n",
      "File 2: nasi ayam\n",
      "Perbedaan di baris 5:\n",
      "File 1: tiduran\n",
      "File 2: sambil\n",
      "Perbedaan di baris 6:\n",
      "File 1: sambil\n",
      "File 2: ngerokok\n",
      "Perbedaan di baris 7:\n",
      "File 1: nonton tiktok\n",
      "File 2: sambil\n"
     ]
    }
   ],
   "source": [
    "def p(file_1, file_2):\n",
    "    with open(file_1, \"r\") as x, open(file_2, \"r\") as y:\n",
    "        lines1 = x.readlines()\n",
    "        lines2 = y.readlines()\n",
    "\n",
    "    for i, (l1, l2) in enumerate(zip(lines1, lines2), start=1):\n",
    "        if l1.rstrip() != l2.rstrip():\n",
    "            print(f\"Perbedaan di baris {i}:\")\n",
    "            print(f\"File 1: {l1.rstrip()}\")\n",
    "            print(f\"File 2: {l2.rstrip()}\")\n",
    "\n",
    "file_1 = input(\"Masukkan nama file pertama : \")\n",
    "file_2 = input(\"Masukkan nama file kedua : \")\n",
    "p(file_1, file_2)"
   ]
  },
  {
   "cell_type": "code",
   "execution_count": null,
   "id": "47465345",
   "metadata": {},
   "outputs": [],
   "source": [
    "def p(file):\n",
    "    with open(file, \"r\") as x:\n",
    "        soall = [line.rstrip().split(\"||\") for line in x]\n",
    "\n",
    "    for soal, kunci in soall:\n",
    "        print(f\"Pertanyaan: {soal}\")\n",
    "        jawaban = input(\"Jawab: \").lower().strip()\n",
    "\n",
    "        if kunci == jawaban:\n",
    "            print(\"Jawaban benar!\")\n",
    "        else:\n",
    "            print(\"Jawaban salah!\")\n",
    "\n",
    "file = input(\"Sebutkan file soal : \")\n",
    "p(file)"
   ]
  },
  {
   "cell_type": "code",
   "execution_count": null,
   "id": "dbcf56e4",
   "metadata": {},
   "outputs": [],
   "source": []
  }
 ],
 "metadata": {
  "kernelspec": {
   "display_name": "Python 3 (ipykernel)",
   "language": "python",
   "name": "python3"
  },
  "language_info": {
   "codemirror_mode": {
    "name": "ipython",
    "version": 3
   },
   "file_extension": ".py",
   "mimetype": "text/x-python",
   "name": "python",
   "nbconvert_exporter": "python",
   "pygments_lexer": "ipython3",
   "version": "3.11.5"
  }
 },
 "nbformat": 4,
 "nbformat_minor": 5
}
